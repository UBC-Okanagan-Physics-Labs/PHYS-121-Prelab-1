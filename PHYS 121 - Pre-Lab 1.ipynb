{
 "cells": [
  {
   "cell_type": "markdown",
   "id": "fe7d51d1",
   "metadata": {
    "deletable": false,
    "editable": false,
    "tags": []
   },
   "source": [
    "# <div style=\"background-color:rgba(204, 229, 255, 0.5); text-align:center; vertical-align: middle; padding:40px 0; margin-top:30px\"><span style=\"color:rgba(0, 76, 153, 1);\">**PHYS 121 Pre-Lab #1**<span style=\"color:red\"> $\\to$ (9 possible marks)</span></span></div>\n",
    "\n",
    "<font size =\"4\"><span style=\"color:purple\">We recommend that you complete this notebook using either the [Google Chrome](https://www.google.com/intl/en_ca/chrome/) or [Mozilla Firefox](https://www.mozilla.org/en-CA/firefox/new/) browser.  Chrome and Firefox are both available for Windows, Mac, and Linux operating systems.  The PHYS 121 Jupyter notebooks should work in other browsers, but we have specifically verfied that they work well in both Chrome and Firefox.</span></font>\n",
    "\n",
    "# Oscillations of a Simple Pendulum &ndash; Week 1"
   ]
  },
  {
   "cell_type": "markdown",
   "id": "dc6a88a7",
   "metadata": {
    "deletable": false,
    "editable": false,
    "tags": []
   },
   "source": [
    "***\n",
    "## Learning Objectives:\n",
    "* <b><span style=\"color:rgba(0, 153, 76, 1);\">Determine what *does* and *does not* affect the width of a distribution of measurements.</span></b>\n",
    "* <b><span style=\"color:rgba(0, 153, 76, 1);\">Determine the uncertainty associated with the *mean* or *average* value of a set of measurements.</span></b> "
   ]
  },
  {
   "cell_type": "markdown",
   "id": "44e0810e",
   "metadata": {
    "deletable": false,
    "editable": false,
    "tags": []
   },
   "source": [
    "***\n",
    "## Autograding:\n",
    "The PHYS 121 Pre-lab assignments and Labs will make use of some autograding.  To make the autograding work, the two cells below needs to be executed.  The first one installs the required packages and the second imports required packages/modules.  If 'PHYS121.Installer()' reports that some functions have been installed, the user should exectute the PHYS121.Installer() cell a second time.  The second time the installer function is run, it should report that **\"All packages already installed. Please proceed\"**.\n",
    "\n",
    "If necessary, the kernel can be restarted by selecting **Kernel** $\\to$ **Restart Kernel** from the menu options at to the top of the page.  Here is a <a href = \"https://raw.githubusercontent.com/UBC-Okanagan-Physics-Labs/PHYS-121-images/main/general/gifs/restartKernel.gif\">GIF</a> showing how to restart the kernel.\n",
    "\n",
    "The 'PHYS121.Installer()' command requires the file 'PHYS121.py', which you should see included in the list of files along the left-hand side of the screen."
   ]
  },
  {
   "cell_type": "code",
   "execution_count": null,
   "id": "cd43551d",
   "metadata": {
    "deletable": false,
    "editable": false,
    "tags": []
   },
   "outputs": [],
   "source": [
    "# Hide unnecessary warnings.\n",
    "import warnings\n",
    "warnings.filterwarnings('ignore')\n",
    "\n",
    "# Import PHYS121.py and then run the installer function.\n",
    "import PHYS121\n",
    "PHYS121.Installer()"
   ]
  },
  {
   "cell_type": "code",
   "execution_count": null,
   "id": "ab4b8ce4",
   "metadata": {
    "deletable": false,
    "editable": false,
    "tags": []
   },
   "outputs": [],
   "source": [
    "# Initialize Otter\n",
    "import otter\n",
    "grader = otter.Notebook(\"PHYS 121 - Pre-Lab 1.ipynb\")"
   ]
  },
  {
   "cell_type": "markdown",
   "id": "4dcd7204",
   "metadata": {
    "deletable": false,
    "editable": false,
    "tags": []
   },
   "source": [
    "***\n",
    "## Import Modules:\n",
    "Execute the cell below to import a number of useful pre-built Python modules that will be used in the PHYS 121 pre-labs and labs."
   ]
  },
  {
   "cell_type": "code",
   "execution_count": null,
   "id": "f136e69c",
   "metadata": {
    "deletable": false,
    "editable": false
   },
   "outputs": [],
   "source": [
    "import numpy as np\n",
    "import matplotlib.pyplot as plt\n",
    "import pandas as pd\n",
    "from matplotlib.pyplot import cm # used to generate a sequence of colours for plotting\n",
    "from scipy.optimize import curve_fit\n",
    "from IPython.display import HTML as html_print\n",
    "from IPython.display import display, Markdown, Latex\n",
    "import sys"
   ]
  },
  {
   "cell_type": "code",
   "execution_count": null,
   "id": "152c6ae0",
   "metadata": {
    "deletable": false,
    "editable": false,
    "tags": []
   },
   "outputs": [],
   "source": [
    "PHYS121.graderCheck(['PHYS121' in sys.modules, 'otter' in sys.modules, 'numpy' in sys.modules], ['PHYS121', 'otter', 'numpy'], grader.check('q0.1'))"
   ]
  },
  {
   "cell_type": "markdown",
   "id": "e50d94bb",
   "metadata": {
    "deletable": false,
    "editable": false,
    "tags": []
   },
   "source": [
    "***\n",
    "## Introduction:\n",
    "\n",
    "This pre-lab will be used to develop some insights that will help you begin to meet the learning objectives for Lab #1.  Furthermore, the pre-lab will introduce some of the Python functions that will be used to analyze the data that you collect during the lab.\n",
    "\n",
    "When a quantity, such as the period of a pendulum, is measured many times using the same measurement technique, one obtains a **distribution** of measurements.  Most of the time (but not always), the data follow a **Gaussian** distribution which is also known as a **normal** distribution or **bell curve** (Fig. 1). The figure below shows an ideal Gaussian distribution which has been scaled (or normalized) so that the total area beneath the curve is one. The peak of the distribution occurs at the **mean** $\\mu$ and its width is characterized by the **standard deviation** $\\sigma$.  The horizonal axis in Fig. 1 shows the locations of $\\mu$, $\\mu\\pm\\sigma$, $\\mu\\pm 2\\sigma$, and $\\mu\\pm 3\\sigma$.\n",
    "\n",
    "<p>\n",
    "<center>\n",
    "<img src=\"https://raw.githubusercontent.com/UBC-Okanagan-Physics-Labs/PHYS-121-images/a8fe7d061e8041f5f011dba0dfe43331d29d03b2/Pre-Lab-1/images/Standard_deviation_diagram_micro.svg\" alt=\"image info\" style=\"width: 85%; height: auto;\" /><br>\n",
    "<b>Fig. 1: An ideal Gaussian distribution.  Figure adapted from <a href=\"https://commons.wikimedia.org/wiki/File:Standard_deviation_diagram.svg\">Wikimedia Commons</a>.</b></center>\n",
    "</p>\n",
    "\n",
    "When collecting experimental data, you tpyically won't see a smooth curve like the one in Fig. 1.  We often use **histograms** to display the distribution of experimental measurements.  First, we define ranges of values called **bins**, and then we count the number of datapoints that fall into each range.  For example, if you were to measure the speed of different objects in the asteroid belt, you could define your bins to be $1\\rm\\ km/s$ wide.  A measurement of $17.8\\rm\\ km/s$ (the average orbital speed of Ceres) would add a count to the $17-18\\rm\\ km/s$ bin.  \n",
    "\n",
    "As more and more data is collected, histograms will approximate the shape of a Gaussian distribution. To exactly reproduce the ideal distribution in Fig. 1, one would need to make an infinite number of measurements of the quantity of interest and then plot a histogram of those data.  This is impractical, of course, so we can only hope to use a finite set of data to approximate an ideal distribution.  \n",
    "\n",
    "\n",
    "**The 68-95-99.7 rule**<br>\n",
    "The area between two points $x_1$ and $x_2$ beneath a normalized Gaussian distribution gives the probability that a single measurement $x$ will fall between those values.  For example, in Fig. 1 region shaded dark blue extends from $x_1=\\mu-\\sigma$ to $x_2=\\mu+\\sigma$ and has an area of $0.68$.  This observation implies that $68\\%$ of measurements are expected to fall within one standard deviation $\\sigma$ of the mean $\\mu$.  In a similar way, $95\\%$ of measurements are expected to fall within $\\pm 2\\sigma$ of the mean and $99.7\\%$ of measurements are expected to fall within $\\pm 3\\sigma$ of the mean.\n",
    "\n",
    "When estimating the uncertainty of a single measurement, one is trying to estimate the standard deviation that would be obtained if the measurement was repeated many times (without actually doing the repeated measurements). "
   ]
  },
  {
   "cell_type": "markdown",
   "id": "f2b7f002",
   "metadata": {
    "deletable": false,
    "editable": false,
    "tags": []
   },
   "source": [
    "# <div style=\"background-color:rgba(255, 204, 255, 0.5); text-align:center; vertical-align: middle; padding:40px 0; margin-top:30px\"><span style=\"color:rgba(102, 0, 204, 1);\">Part 1 - Simulated Data ($N=20$)</span></div>\n",
    "\n",
    "One of the advantages of using Jupyter notebooks for the lab manuals and pre-labs is that, when appropriate, it can be used to generate simulated data.  The simulated datasets can then be used to develop important insights that will help us interpret real experimental data.\n",
    "\n",
    "The block of code below generates a set of $N$ simulated 'measurements' drawn from a Gaussian distribution with mean $\\mu$ and standard deviation $\\sigma$.  You do **not** need to understand the syntax of the code.  It is include only for the benefit of those interested in understanding the details of how the simulated data is generated."
   ]
  },
  {
   "cell_type": "code",
   "execution_count": null,
   "id": "778cce52",
   "metadata": {
    "deletable": false,
    "editable": false,
    "tags": []
   },
   "outputs": [],
   "source": [
    "# Define values for mean & standard deviation of the Gaussian/normal distribution.\n",
    "mu = 2.2 # mean \n",
    "sigma = 0.5 # standard deviation\n",
    "\n",
    "# Enter the number of simulated data points to generate.\n",
    "N = 20\n",
    "\n",
    "# Generate the simulated data.\n",
    "sim20 = np.random.normal(mu, sigma, N)\n",
    "\n",
    "# Show simulated data using a Pandas dataframe.\n",
    "df = pd.DataFrame(sim20, columns = ['data'])\n",
    "df"
   ]
  },
  {
   "cell_type": "markdown",
   "id": "d9a159db",
   "metadata": {
    "deletable": false,
    "editable": false,
    "tags": []
   },
   "source": [
    "In the cell below, you will use a function called 'Statistics' to produce a histogram of simulated data and calculate some basic statistics from your dataset (mean, standard deviation, and standard error). The 'Statistics' function is called as follows:\n",
    "```python\n",
    "import PHYS121\n",
    "counts, centres, average20, stdDev20, stdError20, fig20 = PHYS121.Statistics(xData = sim20)\n",
    "```\n",
    "For additional information about the 'Statistics' function, see **Appendix A** near the end of this notebook.  "
   ]
  },
  {
   "cell_type": "markdown",
   "id": "2a8527ff-0a8c-45c6-bf54-3254b5169a5e",
   "metadata": {
    "deletable": false,
    "editable": false,
    "tags": []
   },
   "source": [
    "<!-- BEGIN QUESTION -->\n",
    "\n",
    "***\n",
    "**<span style=\"color:blue\">Question 1.1</span>** **<span style=\"color:red\">(1 mark)</span>**  \n",
    "\n",
    "Execute the cell below to generate the required histogram.\n",
    "\n",
    "*** Please do not change any of the variable names in the cell below used to generate the histogram ***"
   ]
  },
  {
   "cell_type": "code",
   "execution_count": null,
   "id": "1fd87220",
   "metadata": {
    "deletable": false,
    "editable": false,
    "tags": []
   },
   "outputs": [],
   "source": [
    "# Plot a histogram of the simulated data and calculate some basic statistics.\n",
    "counts, centres, average20, stdDev20, stdError20, fig20 = PHYS121.Statistics(data = sim20)"
   ]
  },
  {
   "cell_type": "markdown",
   "id": "5899100a",
   "metadata": {
    "deletable": false,
    "editable": false,
    "tags": []
   },
   "source": [
    "<!-- END QUESTION -->\n",
    "\n",
    "<!-- BEGIN QUESTION -->\n",
    "\n",
    "***\n",
    "**<span style=\"color:blue\">Question 1.2</span>** **<span style=\"color:red\">(1 mark)</span>**  \n",
    "\n",
    "Comment on the shape of the histogram that was generated using the simulated data.  What features does it have in common with the ideal Gaussian distribution shown in Fig. 1?  What are the differences?  You will be graded on the completeness and clarity of your answer. "
   ]
  },
  {
   "cell_type": "markdown",
   "id": "4910592c",
   "metadata": {},
   "source": [
    "***\n",
    "**<span style=\"color:blue\">Answer 1.2:</span>**\n",
    "\n",
    "[//]: # (Please do not delete this comment or anything above it.  Anything below this comment can be deleted.)  \n",
    "\n",
    "Double click this cell and enter your text here.  When done, hit 'Shift' + 'Enter' to execute the cell.  You may delete this text when entering your answer. "
   ]
  },
  {
   "cell_type": "markdown",
   "id": "55e0dc07",
   "metadata": {
    "deletable": false,
    "editable": false,
    "tags": []
   },
   "source": [
    "<!-- END QUESTION -->\n",
    "\n",
    "<!-- END QUESTION -->\n",
    "\n",
    "***\n",
    "The lines of code below are used to make a scatter plot of the simulated data.  The $x$-axis represents the trial number and  the $y$-axis is the corresponding value.  The dashed pink line marks the average value $\\mu$, the solid red line marks $\\mu+\\sigma$, and the solid blue line marks $\\mu-\\sigma$.  \n",
    "\n",
    "Again, you do **not** need to spend time understanding the syntax of the code.  It is merely provided for the benefit of those interested in seeing the specific details.  "
   ]
  },
  {
   "cell_type": "markdown",
   "id": "3a98e3c1-f1fc-43dd-bdf9-9e50e0361a63",
   "metadata": {
    "deletable": false,
    "editable": false,
    "tags": []
   },
   "source": [
    "<!-- BEGIN QUESTION -->\n",
    "\n",
    "***\n",
    "**<span style=\"color:blue\">Question 1.3</span>** **<span style=\"color:red\">(1 mark)</span>**  \n",
    "\n",
    "Execute the cell below to generate the required scatter plot."
   ]
  },
  {
   "cell_type": "code",
   "execution_count": null,
   "id": "a8e39123",
   "metadata": {
    "deletable": false,
    "editable": false,
    "tags": []
   },
   "outputs": [],
   "source": [
    "# Define the size of the resulting figure (5\" x 5\")\n",
    "fig = plt.figure(figsize=(5, 5), dpi=100)\n",
    "\n",
    "# Plot the simulated data.  The 'ko' syntax specifies a plot of black (the 'k' in 'ko') circular data points (the 'o' in 'ko'). \n",
    "plt.plot(sim20, 'ko')\n",
    "\n",
    "# Specify the range of the x-axis.\n",
    "plt.xlim([-1, N + 1])\n",
    "\n",
    "# Specify which ticks to label along the x-axis.\n",
    "plt.xticks([0, 2, 4, 6, 8, 10, 12, 14, 16, 18, 20]);\n",
    "\n",
    "#Label the x- and y-axes.\n",
    "plt.xlabel('Trial number')\n",
    "plt.ylabel('Simulated data')\n",
    "\n",
    "# Plot a horizontal pink dashed line at mu\n",
    "plt.plot([-1, N + 1], [average20, average20], color = 'pink', linestyle = '--')\n",
    "\n",
    "# Plot a horizontal red line at mu + sigma\n",
    "MuPlusSigma = average20 + stdDev20\n",
    "plt.plot([-1, N + 1], [MuPlusSigma, MuPlusSigma], 'red')\n",
    "\n",
    "# Plot a horizontal blue line at mu - sigma\n",
    "MuMinusSigma = average20 - stdDev20\n",
    "plt.plot([-1, N + 1], [MuMinusSigma, MuMinusSigma], 'blue');"
   ]
  },
  {
   "cell_type": "markdown",
   "id": "a7e03703",
   "metadata": {
    "deletable": false,
    "editable": false,
    "tags": []
   },
   "source": [
    "<!-- END QUESTION -->\n",
    "\n",
    "<!-- BEGIN QUESTION -->\n",
    "\n",
    "***\n",
    "**<span style=\"color:blue\">Question 1.4</span>**  **<span style=\"color:red\">(1 mark)</span>**    \n",
    "\n",
    "In the scatter plot above, the red line is placed at $\\mu +\\sigma$ along the $y$-axis and the blue line is placed at $\\mu-\\sigma$.  What fraction of points fall between the blue and red lines?  Enter the appropriate value for 'frac' in the cell below.  Delete the ... and replace it with a fraction or decimal number.  \n",
    "\n",
    "*** Please do not change anything to the left of the equals sign. ***"
   ]
  },
  {
   "cell_type": "code",
   "execution_count": null,
   "id": "fff20a3c",
   "metadata": {
    "tags": []
   },
   "outputs": [],
   "source": [
    "frac = ..."
   ]
  },
  {
   "cell_type": "code",
   "execution_count": null,
   "id": "60f59a21-10b6-4254-b3d4-fa7fa53252b1",
   "metadata": {
    "deletable": false,
    "editable": false,
    "tags": []
   },
   "outputs": [],
   "source": [
    "PHYS121.graderCheck([frac], ['frac'], grader.check('q1.4'))"
   ]
  },
  {
   "cell_type": "markdown",
   "id": "a6c1d9a3",
   "metadata": {
    "deletable": false,
    "editable": false,
    "tags": []
   },
   "source": [
    "<!-- END QUESTION -->\n",
    "\n",
    "# <div style=\"background-color:rgba(255, 204, 255, 0.5); text-align:center; vertical-align: middle; padding:40px 0; margin-top:30px\"><span style=\"color:rgba(102, 0, 204, 1);\">Part 2 - Simulated Data ($N=1000$)</span></div>\n",
    "\n",
    "Here, we simply repeat everything from **Part 1** after increasing $N$ from $20$ to $1000$.  Using the same values of $\\mu$ and $\\sigma$ that were used in **Part 1**, generate the simulated data using the code block below."
   ]
  },
  {
   "cell_type": "code",
   "execution_count": null,
   "id": "7f97c1dd",
   "metadata": {
    "deletable": false,
    "editable": false,
    "scrolled": true,
    "tags": []
   },
   "outputs": [],
   "source": [
    "# Define values for mean & standard deviation of the Gaussian/normal distribution.\n",
    "mu = 2.2 # mean \n",
    "sigma = 0.5 # standard deviation\n",
    "\n",
    "# Enter the number of simulated data points to generate.\n",
    "N = 1000\n",
    "\n",
    "# Show all rows in the Panadas dataframe\n",
    "pd.set_option('display.max_rows', 1000)\n",
    "\n",
    "# Generate the simulated data.\n",
    "sim1k = np.random.normal(mu, sigma, N)\n",
    "\n",
    "# Show simulated data using a Pandas dataframe.\n",
    "df = pd.DataFrame(sim1k, columns = ['data'])\n",
    "df"
   ]
  },
  {
   "cell_type": "markdown",
   "id": "72f2d994",
   "metadata": {
    "deletable": false,
    "editable": false,
    "tags": []
   },
   "source": [
    "<!-- BEGIN QUESTION -->\n",
    "\n",
    "***\n",
    "**<span style=\"color:blue\">Question 2.1</span>** **<span style=\"color:red\">(1 mark)</span>**  \n",
    "\n",
    "Execute the cell below to generate the required histogram."
   ]
  },
  {
   "cell_type": "code",
   "execution_count": null,
   "id": "50a3bca6",
   "metadata": {
    "tags": []
   },
   "outputs": [],
   "source": [
    "# Plot a histogram of the simulated data and calculate some basic statistics.\n",
    "counts, centres, average1k, stdDev1k, stdError1k, fig1k = PHYS121.Statistics(data = sim1k)"
   ]
  },
  {
   "cell_type": "markdown",
   "id": "08b5d8c5",
   "metadata": {
    "deletable": false,
    "editable": false,
    "tags": []
   },
   "source": [
    "<!-- END QUESTION -->\n",
    "\n",
    "<!-- BEGIN QUESTION -->\n",
    "\n",
    "***\n",
    "**<span style=\"color:blue\">Question 2.2</span>** **<span style=\"color:red\">(1 mark)</span>**  \n",
    "\n",
    "Execute the cell below to generate the required scatter plot."
   ]
  },
  {
   "cell_type": "code",
   "execution_count": null,
   "id": "35050fe8",
   "metadata": {
    "deletable": false,
    "editable": false,
    "tags": []
   },
   "outputs": [],
   "source": [
    "# Define the size of the resulting figure (5\" x 5\")\n",
    "fig = plt.figure(figsize=(5, 5), dpi=100)\n",
    "\n",
    "# Plot the simulated data.  The 'ko' syntax specifies a plot of black (the 'k' in 'ko') circular data points (the 'o' in 'ko'). \n",
    "plt.plot(sim1k, 'ko')\n",
    "\n",
    "# Specify the range of the x-axis.\n",
    "plt.xlim([-10, N + 10])\n",
    "\n",
    "# Specify which ticks to label along the x-axis.\n",
    "plt.xticks([0, 100, 200, 300, 400, 500, 600, 700, 800, 900, 1000]);\n",
    "\n",
    "#Label the x- and y-axes.\n",
    "plt.xlabel('Trial number')\n",
    "plt.ylabel('Simulated data')\n",
    "\n",
    "# Plot a horizontal pink dashed line at mu\n",
    "plt.plot([-10, N + 10], [average1k, average1k], color = 'pink', linestyle = '--')\n",
    "\n",
    "# Plot a horizontal red line at mu + sigma\n",
    "MuPlusSigma = average1k + stdDev1k\n",
    "plt.plot([-10, N + 10], [MuPlusSigma, MuPlusSigma], 'red')\n",
    "\n",
    "# Plot a horizontal blue line at mu - sigma\n",
    "MuMinusSigma = average1k - stdDev1k\n",
    "plt.plot([-10, N + 10], [MuMinusSigma, MuMinusSigma], 'blue');"
   ]
  },
  {
   "cell_type": "markdown",
   "id": "af72c5f3",
   "metadata": {
    "deletable": false,
    "editable": false,
    "tags": []
   },
   "source": [
    "<!-- END QUESTION -->\n",
    "\n",
    "<!-- BEGIN QUESTION -->\n",
    "\n",
    "***\n",
    "**<span style=\"color:blue\">Question 2.3</span>** **<span style=\"color:red\">(1 mark)</span>**     \n",
    "\n",
    "Compare the obtained values of $\\mu$ and $\\sigma$ from **Part 1** ($N = 20$) to those obtained in **Part 2** ($N = 1000$).  Are they very different or are they similar?  We changed $N$ by a factor of $1000/20 = 50$.  In comparison, by what factor did the standard deviation change?  What does this tell you about how the standard deviation $\\sigma$ depends on the number of trials $N$?"
   ]
  },
  {
   "cell_type": "markdown",
   "id": "dd18a691",
   "metadata": {},
   "source": [
    "***\n",
    "**<span style=\"color:blue\">Answer 2.3:</span>**\n",
    "\n",
    "[//]: # (Please do not delete this comment or anything above it.  Anything below this comment can be deleted.)  \n",
    "\n",
    "Double click this cell and enter your text here.  When done, hit 'Shift' + 'Enter' to execute the cell.  You may delete this text when entering your answer. "
   ]
  },
  {
   "cell_type": "markdown",
   "id": "6d51c8e1",
   "metadata": {
    "deletable": false,
    "editable": false,
    "tags": []
   },
   "source": [
    "<!-- END QUESTION -->\n",
    "\n",
    "<!-- BEGIN QUESTION -->\n",
    "\n",
    "***\n",
    "**<span style=\"color:blue\">Question 2.4</span>** **<span style=\"color:red\">(1 mark)</span>**    \n",
    "\n",
    "Compare the histograms obtained in **Part 1** ($N = 20$ trials) and **Part 2** ($N = 1000$ trials).  Which of the histograms allows you to better determine the position of the peak (or mean)?  Provide a clear justification for your answer."
   ]
  },
  {
   "cell_type": "markdown",
   "id": "9b6ef69b",
   "metadata": {},
   "source": [
    "***\n",
    "**<span style=\"color:blue\">Answer 2.4:</span>**\n",
    "\n",
    "[//]: # (Please do not delete this comment or anything above it.  Anything below this comment can be deleted.)  \n",
    "\n",
    "Double click this cell and enter your text here.  When done, hit 'Shift' + 'Enter' to execute the cell.  You may delete this text when entering your answer. "
   ]
  },
  {
   "cell_type": "markdown",
   "id": "0219847d",
   "metadata": {
    "deletable": false,
    "editable": false,
    "tags": []
   },
   "source": [
    "<!-- END QUESTION -->\n",
    "\n",
    "<!-- END QUESTION -->\n",
    "\n",
    "***\n",
    "From **Parts 1** and **2** of this pre-lab, you should have seen that the standard deviation $\\sigma$, which characterizes the width of a Gaussian distribution, is independent of the number of trials $N$.  The standard deviation $\\sigma$ is used to estimate the uncertainty of any single trial of an experiment.  The physical interpretation is that any single measurement has approximately a $68\\%$ chance of falling within one standard deviation of the mean $\\mu$.  That is, each measurement has a $68\\%$ chance of falling between $\\mu-\\sigma$ and $\\mu+\\sigma$.\n",
    "\n",
    "Although $\\sigma$ is independent of $N$, our ability to locate the peak or mean value of a distribution of measurements improves as $N$ increases.  This is because the distribution of measurements better approximates an ideal Gaussian distribution with a smooth peak and symmetric tails as $N$ is increased.\n",
    "\n",
    "The **standard error in the mean** (often referred to simply as the **standard error**) is an estimate of the uncertainty in the calculated mean from a set of data. We will denote the standard error by $\\sigma_\\mu$. The standard error is calculated by dividing the standard deviation $\\sigma$ by the square root of the number of trials $N$:\n",
    "\\begin{align}\n",
    "\\sigma_\\mu = \\dfrac{\\sigma}{\\sqrt{N}}.\n",
    "\\tag{2}\n",
    "\\end{align}\n",
    "Understanding where this expression comes from requires a proper treatment of the propagation of errors which is beyond the scope of PHYS 121.  However, if you choose to pursue a physics degree, we will revisit error propagation and standard error in the Modern Physics Laboratory course PHYS 232."
   ]
  },
  {
   "cell_type": "markdown",
   "id": "436eec35",
   "metadata": {
    "deletable": false,
    "editable": false,
    "tags": []
   },
   "source": [
    "# <div style=\"background-color:rgba(255, 204, 255, 0.5); text-align:center; vertical-align: middle; padding:40px 0; margin-top:30px\"><span style=\"color:rgba(102, 0, 204, 1);\">Part 3 - Overlaying Histograms</span></div>\n",
    "\n",
    "In this final part of the pre-lab, which won't be graded, we simply overlay the histograms of the simulated data generated in **Parts 1** and **2**.  To create the overlay of histograms, the 'HistOverlay()' function from PHYS121.py will be used.  For additional information about this function, see **Appendix B** near the end of this notebook."
   ]
  },
  {
   "cell_type": "code",
   "execution_count": null,
   "id": "b51e5680",
   "metadata": {},
   "outputs": [],
   "source": [
    "cnts, ctrs, fig2 = PHYS121.HistOverlay([sim20, sim1k])"
   ]
  },
  {
   "cell_type": "markdown",
   "id": "81dbd5ee",
   "metadata": {
    "deletable": false,
    "editable": false,
    "tags": []
   },
   "source": [
    "In the plot above, you should see a pair of overlaid histograms.  The blue and orange bars represent the set of simulated data with $N=20$ and $N=1000$ trials, respectively.  You should notice that the orange data better approximate an ideal Gaussian distribution and thus the mean value of the distribution is easier to locate.  This plot also emphasizes that the two distributions have approximately the same width, related to the fact that the standard deviation $\\sigma$ is independent of the size $N$ of the dataset.\n",
    "\n",
    "To summarize, the two important observations that can be made from this analysis are:\n",
    "- The standard deviation $\\sigma$ is independent of the number of trials $N$.\n",
    "- Datasets with a large number of trials result in smoother distributions with allows for a more precise determination of the mean $\\mu$.\n",
    "\n",
    "If both of the observations above are true, then $\\sigma$ **cannot** be a good estimate of the uncertainty in the mean or average value of a set of $N$ measurements.  Instead, the standard deviation $\\sigma$ represents the uncertainty in the value of any single trial of the experiment.  It is the standard error $\\sigma_\\mu=\\sigma/\\sqrt{N}$ that represents the uncertainty in the mean or average value of a set of $N$ measurements."
   ]
  },
  {
   "cell_type": "markdown",
   "id": "7a2ada59",
   "metadata": {
    "deletable": false,
    "editable": false,
    "tags": []
   },
   "source": [
    "<!-- BEGIN QUESTION -->\n",
    "\n",
    "# <div style=\"background-color:rgba(255, 204, 255, 0.5); text-align:center; vertical-align: middle; padding:40px 0; margin-top:30px\"><span style=\"color:rgba(102, 0, 204, 1);\">Part 4 - Feedback and Submission</span></div>"
   ]
  },
  {
   "cell_type": "markdown",
   "id": "7075ee8b",
   "metadata": {
    "deletable": false,
    "editable": false,
    "tags": []
   },
   "source": [
    "**<span style=\"color:blue\">Question 4.1:</span>**  \n",
    "\n",
    "We welcome your feedback on the PHYS 121 pre-labs!  Please feel free to include any comments you have about this pre-lab in the cell below.  Your comments will be taken into consideration when revising/improving the PHYS 121 labs and pre-labs.  You can suggest improvements, point out anything that was unclear, comment on the strengths and weaknesses of the pre-lab, ...\n",
    "\n",
    "This question is optional and will have no impact on your pre-lab or lab grade."
   ]
  },
  {
   "cell_type": "markdown",
   "id": "c3e00ad3",
   "metadata": {},
   "source": [
    "***\n",
    "**<span style=\"color:blue\">Answer 4.1:</span>**\n",
    "\n",
    "[//]: # (Please do not delete this comment or anything above it.  Anything below this comment can be deleted.)  \n",
    "\n",
    "Double click this cell and enter your text here.  When done, hit 'Shift' + 'Enter' to execute the cell.  You may delete this text when entering your answer. "
   ]
  },
  {
   "cell_type": "markdown",
   "id": "d8795070-fd65-4cb1-b16b-0cf6282c1ea8",
   "metadata": {
    "deletable": false,
    "editable": false,
    "tags": []
   },
   "source": [
    "<!-- END QUESTION -->\n",
    "\n",
    "***\n",
    "Once you've completed this notebook:\n",
    "- Save your work.\n",
    "- Run 'grader.check_all()' to confirm that you've completed all required tasks.\n",
    "- Run 'grader.export()' to generate a .zip file containing all of the materials that you will submit.\n",
    "- Download the generated .zip file using the link that appears **below** the ```grader.check_all(...)``` cell.\n",
    "- $\\Leftarrow$ Please do **NOT** download the zip file from the frame along the left-hand side of the screen. \n",
    "- Upload the .zip file to the PHYS 121 Canvas gradebook.\n",
    "- **Do NOT change the name of the .zip file.**\n",
    "- **Do NOT modify the contents of the .zip file.**\n",
    "\n",
    "Here is a <a href = \"https://raw.githubusercontent.com/UBC-Okanagan-Physics-Labs/PHYS-121-images/main/general/gifs/Submission.gif\">GIF</a> showing how these steps are completed.  Once your completed notebook has been uploaded to the Canvas gradebook, you're done!"
   ]
  },
  {
   "cell_type": "markdown",
   "id": "497326d7",
   "metadata": {
    "deletable": false,
    "editable": false,
    "tags": []
   },
   "source": [
    "---\n",
    "\n",
    "To double-check your work, the cell below will rerun all of the autograder tests."
   ]
  },
  {
   "cell_type": "code",
   "execution_count": null,
   "id": "9b341e84",
   "metadata": {
    "deletable": false,
    "editable": false,
    "tags": []
   },
   "outputs": [],
   "source": [
    "display(grader.check_all())\n",
    "PHYS121.saveMessage()"
   ]
  },
  {
   "cell_type": "markdown",
   "id": "e9b4e267",
   "metadata": {
    "deletable": false,
    "editable": false,
    "tags": []
   },
   "source": [
    "## Submission\n",
    "\n",
    "Make sure you have run all cells in your notebook in order before running the cell below, so that all images/graphs appear in the output. The cell below will generate a zip file for you to submit. **Please save before exporting!**"
   ]
  },
  {
   "cell_type": "code",
   "execution_count": null,
   "id": "8659a5e8",
   "metadata": {
    "deletable": false,
    "editable": false,
    "tags": []
   },
   "outputs": [],
   "source": [
    "# Save your notebook first, then run this cell to export your submission.\n",
    "PHYS121.waitMessage()\n",
    "grader.export(files=[\"PHYS121_DataLogger.txt\"])\n",
    "PHYS121.proceedMessage()"
   ]
  },
  {
   "cell_type": "markdown",
   "id": "c64fe520",
   "metadata": {
    "deletable": false,
    "editable": false,
    "tags": []
   },
   "source": [
    "# <div style=\"background-color:rgba(255, 204, 255, 0.5); text-align:center; vertical-align: middle; padding:40px 0; margin-top:30px\"><span style=\"color:rgba(102, 0, 204, 1);\">Part 5 - Playground (optional)</span></div>\n",
    "\n",
    "Feel free to add as many cells as you like below and use them as a playground for further independent investigations.  These cells won't be graded, so feel free to use them in any way that you like.  For example, you could compare Gaussian distributions with different standard deviations and/or means. "
   ]
  },
  {
   "cell_type": "code",
   "execution_count": null,
   "id": "7c884191",
   "metadata": {},
   "outputs": [],
   "source": [
    "# Here's an empty code cell that you can use."
   ]
  },
  {
   "cell_type": "code",
   "execution_count": null,
   "id": "7ac2d138",
   "metadata": {},
   "outputs": [],
   "source": [
    "# Here's another empty code cell that you can use."
   ]
  },
  {
   "cell_type": "code",
   "execution_count": null,
   "id": "84117472",
   "metadata": {},
   "outputs": [],
   "source": [
    "# Here's yet another empty code cell that you can use.  \n",
    "# If you need more, you can add cells using the '+' icon in the menu bar at to the top of the screen."
   ]
  },
  {
   "cell_type": "markdown",
   "id": "1e7e688d",
   "metadata": {
    "deletable": false,
    "editable": false,
    "tags": []
   },
   "source": [
    "### <div style=\"background-color:rgba(255, 255, 102, 0.5); text-align:left; padding:20px 0; margin-top:20px\">$\\quad$Appendix A &ndash; The Statistics Function...</div>\n",
    "\n",
    "The statistics function is called as follows:\n",
    "```python\n",
    "Statistics(data, nbins = 10, xlabel = 'x-axis', xUnits = '', normalized = False)\n",
    "```\n",
    "The data input is required, all other arguments are optional with default values set.  The function returns the following outputs:\n",
    "```python\n",
    "counts, centres, average, stdDev, stdError, fig\n",
    "```\n",
    "The first two outputs are lists, the next three are numerical values, and 'fig' is the formatted plot. The counts list gives the number of counts in each bin of the histogram and the centres list gives the position of the centre of each bin.\n",
    "\n",
    "The function calculates and reports the mean, standard deviation, and standard error of the provided data.  It also plots a histogram of the data.  \n",
    "\n",
    "### Statistics Example Implmentation\n",
    "The code block below shows an implementation of 'Statistics'.\n",
    "```python\n",
    "import PHYS121\n",
    "theta20a = [2.02, 1.93, 1.92, 1.96, 2.03, 2.03, 1.96, 2.03, 2.06, 2, 2.03, 2.12, 2.07, 1.99, 1.99, 1.95, 2.03, 2.12, 2.03, 2.09, 2.03, 2.03, 2.01, 2.04, 2.03, 2.04, 1.99, 1.99, 1.97, 1.98]\n",
    "cnts, ctrs, mean, stdDev, stdError, fig20a = PHYS121.Statistics(theta20a, 12, 'Period', 's', True);\n",
    "```\n",
    "\n",
    "If you're interested in generating your own histograms with customized formatting, see the following Python-based tutorial: https://cmps-people.ok.ubc.ca/jbobowsk/Python/html/Jupyter%20Histogram.html.\n",
    "***"
   ]
  },
  {
   "cell_type": "markdown",
   "id": "8cfda69a",
   "metadata": {
    "deletable": false,
    "editable": false,
    "tags": []
   },
   "source": [
    "### <div style=\"background-color:rgba(255, 255, 102, 0.5); text-align:left; padding:20px 0; margin-top:20px\">$\\quad$Appendix B &ndash; The HistOverlay Function...</div>\n",
    "\n",
    "The HistOverlay function is called as follows:\n",
    "```python\n",
    "HistOverlay(dataArray, nbins = 10, xlabel = 'x-axis', xUnits = '',  normalized = True, transparency = 0.75)\n",
    "```\n",
    "The dataArray (a list of lists) input is required, all other arguments are optional with default values set.  The function returns the following outputs:\n",
    "```python\n",
    "countsArray, centresArray, fig\n",
    "```\n",
    "The first two outputs are lists of lists and 'fig' is the formatted plot. \n",
    "\n",
    "The dataArray is of the form dataArray = [[dataset1], [dataset2], ... [datasetN]].  The function plots the histograms of each of the datasets on a single graph.  If the normalized argument is True, then histogram is scaled such that the area under the distributions is 1.  This is a good option when comparing two different distributions.  The transparency argument (a number between 0 and 1) sets the transparency of each of the individual histograms.\n",
    "\n",
    "### HistOverlay Example Implementation\n",
    "The code block below shows an implementation of 'HistOverlay'.\n",
    "```python\n",
    "import PHYS121\n",
    "cnts, ctrs, fig = PHYS121.HistOverlay([theta20a, theta20], 8, 'Period', 's', True, 0.75)\n",
    "```\n",
    "***"
   ]
  },
  {
   "cell_type": "markdown",
   "id": "2b19a05f",
   "metadata": {
    "deletable": false,
    "editable": false,
    "tags": []
   },
   "source": [
    "<img src=\"https://raw.githubusercontent.com/UBC-Okanagan-Physics-Labs/PHYS-121-images/main/general/images/ubc-logo-full.jpg\" width=\"500\"/>"
   ]
  },
  {
   "cell_type": "markdown",
   "id": "22a0fae6",
   "metadata": {},
   "source": [
    "Last update: January 18, 2025"
   ]
  }
 ],
 "metadata": {
  "kernelspec": {
   "display_name": "Python 3 (ipykernel)",
   "language": "python",
   "name": "python3"
  },
  "language_info": {
   "codemirror_mode": {
    "name": "ipython",
    "version": 3
   },
   "file_extension": ".py",
   "mimetype": "text/x-python",
   "name": "python",
   "nbconvert_exporter": "python",
   "pygments_lexer": "ipython3",
   "version": "3.11.10"
  },
  "otter": {
   "OK_FORMAT": true,
   "tests": {
    "q0.1": {
     "name": "q0.1",
     "points": null,
     "suites": [
      {
       "cases": [
        {
         "code": ">>> 'PHYS121' in sys.modules and 'otter' in sys.modules and ('numpy' in sys.modules)\nTrue",
         "failure_message": "Make sure you execute the cells containing \"import PHYS121\" and \"import otter\" as well as the cell beneath the heading \"Importing Packages/Modules\".",
         "hidden": false,
         "locked": false,
         "points": 1
        }
       ],
       "scored": true,
       "setup": "",
       "teardown": "",
       "type": "doctest"
      }
     ]
    },
    "q1.4": {
     "name": "q1.4",
     "points": null,
     "suites": [
      {
       "cases": [
        {
         "code": ">>> isinstance(frac, float)\nTrue",
         "failure_message": "frac must be a floating-point number (i.e. a fraction such as 13/20 or a decimal number such as 0.65).",
         "hidden": false,
         "locked": false,
         "points": 0
        },
        {
         "code": ">>> frac > 0 and frac < 1\nTrue",
         "failure_message": "frac should be a fraction or decimal number between 0 and 1.",
         "hidden": false,
         "locked": false,
         "points": 0
        }
       ],
       "scored": true,
       "setup": "",
       "teardown": "",
       "type": "doctest"
      }
     ]
    }
   }
  },
  "vscode": {
   "interpreter": {
    "hash": "b870ad910a049d8ae52495743c7bc32c2e217ef524f139ca97c6947f4622129b"
   }
  }
 },
 "nbformat": 4,
 "nbformat_minor": 5
}
